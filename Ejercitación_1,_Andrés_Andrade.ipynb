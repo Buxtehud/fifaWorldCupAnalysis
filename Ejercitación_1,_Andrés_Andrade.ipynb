{
 "nbformat": 4,
 "nbformat_minor": 0,
 "metadata": {
  "colab": {
   "name": "Ejercitación 1, Andrés Andrade.ipynb",
   "provenance": []
  },
  "kernelspec": {
   "name": "python3",
   "display_name": "Python 3"
  },
  "language_info": {
   "name": "python"
  }
 },
 "cells": [
  {
   "cell_type": "code",
   "execution_count": 1,
   "metadata": {
    "id": "5EI547dtHNl3"
   },
   "outputs": [],
   "source": [
    "import numpy as np\n",
    "import pandas as pd\n",
    "import matplotlib.pyplot as plt\n",
    "import seaborn as sns"
   ]
  },
  {
   "cell_type": "code",
   "source": [
    "matches = pd.read_csv('Data/WorldCupMatches.csv')\n",
    "players = pd.read_csv('Data/WorldCupPlayers.csv')"
   ],
   "metadata": {
    "id": "PMGqOkQEH9AI"
   },
   "execution_count": 2,
   "outputs": []
  },
  {
   "cell_type": "code",
   "source": [
    "matches.dropna(inplace=True)"
   ],
   "metadata": {
    "id": "NNlv33b0Ikk4"
   },
   "execution_count": 3,
   "outputs": []
  },
  {
   "cell_type": "code",
   "execution_count": 4,
   "outputs": [
    {
     "data": {
      "text/plain": "     Year              Datetime    Stage         Stadium         City  \\\n0  1930.0  13 Jul 1930 - 15:00   Group 1         Pocitos  Montevideo    \n1  1930.0  13 Jul 1930 - 15:00   Group 4  Parque Central  Montevideo    \n2  1930.0  14 Jul 1930 - 12:45   Group 2  Parque Central  Montevideo    \n3  1930.0  14 Jul 1930 - 14:50   Group 3         Pocitos  Montevideo    \n4  1930.0  15 Jul 1930 - 16:00   Group 1  Parque Central  Montevideo    \n\n  Home Team Name  Home Team Goals  Away Team Goals Away Team Name  \\\n0         France              4.0              1.0         Mexico   \n1            USA              3.0              0.0        Belgium   \n2     Yugoslavia              2.0              1.0         Brazil   \n3        Romania              3.0              1.0           Peru   \n4      Argentina              1.0              0.0         France   \n\n  Win conditions  Attendance  Half-time Home Goals  Half-time Away Goals  \\\n0                     4444.0                   3.0                   0.0   \n1                    18346.0                   2.0                   0.0   \n2                    24059.0                   2.0                   0.0   \n3                     2549.0                   1.0                   0.0   \n4                    23409.0                   0.0                   0.0   \n\n                  Referee               Assistant 1  \\\n0  LOMBARDI Domingo (URU)     CRISTOPHE Henry (BEL)   \n1       MACIAS Jose (ARG)  MATEUCCI Francisco (URU)   \n2     TEJADA Anibal (URU)   VALLARINO Ricardo (URU)   \n3   WARNKEN Alberto (CHI)       LANGENUS Jean (BEL)   \n4     REGO Gilberto (BRA)      SAUCEDO Ulises (BOL)   \n\n                  Assistant 2  RoundID  MatchID Home Team Initials  \\\n0         REGO Gilberto (BRA)    201.0   1096.0                FRA   \n1       WARNKEN Alberto (CHI)    201.0   1090.0                USA   \n2         BALWAY Thomas (FRA)    201.0   1093.0                YUG   \n3    MATEUCCI Francisco (URU)    201.0   1098.0                ROU   \n4  RADULESCU Constantin (ROU)    201.0   1085.0                ARG   \n\n  Away Team Initials  \n0                MEX  \n1                BEL  \n2                BRA  \n3                PER  \n4                FRA  ",
      "text/html": "<div>\n<style scoped>\n    .dataframe tbody tr th:only-of-type {\n        vertical-align: middle;\n    }\n\n    .dataframe tbody tr th {\n        vertical-align: top;\n    }\n\n    .dataframe thead th {\n        text-align: right;\n    }\n</style>\n<table border=\"1\" class=\"dataframe\">\n  <thead>\n    <tr style=\"text-align: right;\">\n      <th></th>\n      <th>Year</th>\n      <th>Datetime</th>\n      <th>Stage</th>\n      <th>Stadium</th>\n      <th>City</th>\n      <th>Home Team Name</th>\n      <th>Home Team Goals</th>\n      <th>Away Team Goals</th>\n      <th>Away Team Name</th>\n      <th>Win conditions</th>\n      <th>Attendance</th>\n      <th>Half-time Home Goals</th>\n      <th>Half-time Away Goals</th>\n      <th>Referee</th>\n      <th>Assistant 1</th>\n      <th>Assistant 2</th>\n      <th>RoundID</th>\n      <th>MatchID</th>\n      <th>Home Team Initials</th>\n      <th>Away Team Initials</th>\n    </tr>\n  </thead>\n  <tbody>\n    <tr>\n      <th>0</th>\n      <td>1930.0</td>\n      <td>13 Jul 1930 - 15:00</td>\n      <td>Group 1</td>\n      <td>Pocitos</td>\n      <td>Montevideo</td>\n      <td>France</td>\n      <td>4.0</td>\n      <td>1.0</td>\n      <td>Mexico</td>\n      <td></td>\n      <td>4444.0</td>\n      <td>3.0</td>\n      <td>0.0</td>\n      <td>LOMBARDI Domingo (URU)</td>\n      <td>CRISTOPHE Henry (BEL)</td>\n      <td>REGO Gilberto (BRA)</td>\n      <td>201.0</td>\n      <td>1096.0</td>\n      <td>FRA</td>\n      <td>MEX</td>\n    </tr>\n    <tr>\n      <th>1</th>\n      <td>1930.0</td>\n      <td>13 Jul 1930 - 15:00</td>\n      <td>Group 4</td>\n      <td>Parque Central</td>\n      <td>Montevideo</td>\n      <td>USA</td>\n      <td>3.0</td>\n      <td>0.0</td>\n      <td>Belgium</td>\n      <td></td>\n      <td>18346.0</td>\n      <td>2.0</td>\n      <td>0.0</td>\n      <td>MACIAS Jose (ARG)</td>\n      <td>MATEUCCI Francisco (URU)</td>\n      <td>WARNKEN Alberto (CHI)</td>\n      <td>201.0</td>\n      <td>1090.0</td>\n      <td>USA</td>\n      <td>BEL</td>\n    </tr>\n    <tr>\n      <th>2</th>\n      <td>1930.0</td>\n      <td>14 Jul 1930 - 12:45</td>\n      <td>Group 2</td>\n      <td>Parque Central</td>\n      <td>Montevideo</td>\n      <td>Yugoslavia</td>\n      <td>2.0</td>\n      <td>1.0</td>\n      <td>Brazil</td>\n      <td></td>\n      <td>24059.0</td>\n      <td>2.0</td>\n      <td>0.0</td>\n      <td>TEJADA Anibal (URU)</td>\n      <td>VALLARINO Ricardo (URU)</td>\n      <td>BALWAY Thomas (FRA)</td>\n      <td>201.0</td>\n      <td>1093.0</td>\n      <td>YUG</td>\n      <td>BRA</td>\n    </tr>\n    <tr>\n      <th>3</th>\n      <td>1930.0</td>\n      <td>14 Jul 1930 - 14:50</td>\n      <td>Group 3</td>\n      <td>Pocitos</td>\n      <td>Montevideo</td>\n      <td>Romania</td>\n      <td>3.0</td>\n      <td>1.0</td>\n      <td>Peru</td>\n      <td></td>\n      <td>2549.0</td>\n      <td>1.0</td>\n      <td>0.0</td>\n      <td>WARNKEN Alberto (CHI)</td>\n      <td>LANGENUS Jean (BEL)</td>\n      <td>MATEUCCI Francisco (URU)</td>\n      <td>201.0</td>\n      <td>1098.0</td>\n      <td>ROU</td>\n      <td>PER</td>\n    </tr>\n    <tr>\n      <th>4</th>\n      <td>1930.0</td>\n      <td>15 Jul 1930 - 16:00</td>\n      <td>Group 1</td>\n      <td>Parque Central</td>\n      <td>Montevideo</td>\n      <td>Argentina</td>\n      <td>1.0</td>\n      <td>0.0</td>\n      <td>France</td>\n      <td></td>\n      <td>23409.0</td>\n      <td>0.0</td>\n      <td>0.0</td>\n      <td>REGO Gilberto (BRA)</td>\n      <td>SAUCEDO Ulises (BOL)</td>\n      <td>RADULESCU Constantin (ROU)</td>\n      <td>201.0</td>\n      <td>1085.0</td>\n      <td>ARG</td>\n      <td>FRA</td>\n    </tr>\n  </tbody>\n</table>\n</div>"
     },
     "execution_count": 4,
     "metadata": {},
     "output_type": "execute_result"
    }
   ],
   "source": [
    "matches.head()"
   ],
   "metadata": {
    "collapsed": false,
    "pycharm": {
     "name": "#%%\n"
    }
   }
  },
  {
   "cell_type": "markdown",
   "source": [
    "# Primera consigna"
   ],
   "metadata": {
    "id": "EbA2rYMpUtoY"
   }
  },
  {
   "cell_type": "code",
   "source": [
    "# Creo una columna al final del dataframe con el total de goles de cada partido\n",
    "matches['Total Goals'] = matches['Home Team Goals'] + matches['Away Team Goals']"
   ],
   "metadata": {
    "id": "lVFIZlibK2qC"
   },
   "execution_count": null,
   "outputs": []
  },
  {
   "cell_type": "code",
   "execution_count": null,
   "outputs": [],
   "source": [],
   "metadata": {
    "collapsed": false,
    "pycharm": {
     "name": "#%%\n"
    }
   }
  },
  {
   "cell_type": "code",
   "source": [
    "# Selecciono la primera y última columna del dataframe\n",
    "goals_by_matches = matches.iloc[:,[0, -1]]"
   ],
   "metadata": {
    "id": "U8aNvo__MGzs"
   },
   "execution_count": null,
   "outputs": []
  },
  {
   "cell_type": "code",
   "source": [
    "# Agrupo por año y calculo el promedio\n",
    "avg_goals = goals_by_matches.groupby('Year').mean().rename(columns={'Total Goals':'Average Goals'})"
   ],
   "metadata": {
    "id": "JFN1FZhyM7VZ"
   },
   "execution_count": null,
   "outputs": []
  },
  {
   "cell_type": "markdown",
   "source": [
    "##Lista ordenada de los mundiales por promedio de goles."
   ],
   "metadata": {
    "id": "82mVlcIXU9jl"
   }
  },
  {
   "cell_type": "code",
   "source": [
    "avg_goals_sorted = avg_goals.sort_values(by=['Average Goals'], ascending=False)\n",
    "avg_goals_sorted"
   ],
   "metadata": {
    "colab": {
     "base_uri": "https://localhost:8080/",
     "height": 708
    },
    "id": "uGgY_wjiTKsr",
    "outputId": "2bca2181-75c5-4a1c-95fd-5c82b2dc97ed"
   },
   "execution_count": null,
   "outputs": [
    {
     "output_type": "execute_result",
     "data": {
      "text/plain": [
       "        Average Goals\n",
       "Year                 \n",
       "1954.0       5.384615\n",
       "1938.0       4.666667\n",
       "1934.0       4.117647\n",
       "1950.0       4.000000\n",
       "1930.0       3.888889\n",
       "1958.0       3.600000\n",
       "1970.0       2.968750\n",
       "1982.0       2.807692\n",
       "1962.0       2.781250\n",
       "1966.0       2.781250\n",
       "1994.0       2.711538\n",
       "1978.0       2.684211\n",
       "1998.0       2.671875\n",
       "2014.0       2.564103\n",
       "1974.0       2.552632\n",
       "1986.0       2.538462\n",
       "2002.0       2.515625\n",
       "2006.0       2.296875\n",
       "2010.0       2.265625\n",
       "1990.0       2.211538"
      ],
      "text/html": [
       "\n",
       "  <div id=\"df-e19ee114-f09c-40a7-9f27-41e00290995e\">\n",
       "    <div class=\"colab-df-container\">\n",
       "      <div>\n",
       "<style scoped>\n",
       "    .dataframe tbody tr th:only-of-type {\n",
       "        vertical-align: middle;\n",
       "    }\n",
       "\n",
       "    .dataframe tbody tr th {\n",
       "        vertical-align: top;\n",
       "    }\n",
       "\n",
       "    .dataframe thead th {\n",
       "        text-align: right;\n",
       "    }\n",
       "</style>\n",
       "<table border=\"1\" class=\"dataframe\">\n",
       "  <thead>\n",
       "    <tr style=\"text-align: right;\">\n",
       "      <th></th>\n",
       "      <th>Average Goals</th>\n",
       "    </tr>\n",
       "    <tr>\n",
       "      <th>Year</th>\n",
       "      <th></th>\n",
       "    </tr>\n",
       "  </thead>\n",
       "  <tbody>\n",
       "    <tr>\n",
       "      <th>1954.0</th>\n",
       "      <td>5.384615</td>\n",
       "    </tr>\n",
       "    <tr>\n",
       "      <th>1938.0</th>\n",
       "      <td>4.666667</td>\n",
       "    </tr>\n",
       "    <tr>\n",
       "      <th>1934.0</th>\n",
       "      <td>4.117647</td>\n",
       "    </tr>\n",
       "    <tr>\n",
       "      <th>1950.0</th>\n",
       "      <td>4.000000</td>\n",
       "    </tr>\n",
       "    <tr>\n",
       "      <th>1930.0</th>\n",
       "      <td>3.888889</td>\n",
       "    </tr>\n",
       "    <tr>\n",
       "      <th>1958.0</th>\n",
       "      <td>3.600000</td>\n",
       "    </tr>\n",
       "    <tr>\n",
       "      <th>1970.0</th>\n",
       "      <td>2.968750</td>\n",
       "    </tr>\n",
       "    <tr>\n",
       "      <th>1982.0</th>\n",
       "      <td>2.807692</td>\n",
       "    </tr>\n",
       "    <tr>\n",
       "      <th>1962.0</th>\n",
       "      <td>2.781250</td>\n",
       "    </tr>\n",
       "    <tr>\n",
       "      <th>1966.0</th>\n",
       "      <td>2.781250</td>\n",
       "    </tr>\n",
       "    <tr>\n",
       "      <th>1994.0</th>\n",
       "      <td>2.711538</td>\n",
       "    </tr>\n",
       "    <tr>\n",
       "      <th>1978.0</th>\n",
       "      <td>2.684211</td>\n",
       "    </tr>\n",
       "    <tr>\n",
       "      <th>1998.0</th>\n",
       "      <td>2.671875</td>\n",
       "    </tr>\n",
       "    <tr>\n",
       "      <th>2014.0</th>\n",
       "      <td>2.564103</td>\n",
       "    </tr>\n",
       "    <tr>\n",
       "      <th>1974.0</th>\n",
       "      <td>2.552632</td>\n",
       "    </tr>\n",
       "    <tr>\n",
       "      <th>1986.0</th>\n",
       "      <td>2.538462</td>\n",
       "    </tr>\n",
       "    <tr>\n",
       "      <th>2002.0</th>\n",
       "      <td>2.515625</td>\n",
       "    </tr>\n",
       "    <tr>\n",
       "      <th>2006.0</th>\n",
       "      <td>2.296875</td>\n",
       "    </tr>\n",
       "    <tr>\n",
       "      <th>2010.0</th>\n",
       "      <td>2.265625</td>\n",
       "    </tr>\n",
       "    <tr>\n",
       "      <th>1990.0</th>\n",
       "      <td>2.211538</td>\n",
       "    </tr>\n",
       "  </tbody>\n",
       "</table>\n",
       "</div>\n",
       "      <button class=\"colab-df-convert\" onclick=\"convertToInteractive('df-e19ee114-f09c-40a7-9f27-41e00290995e')\"\n",
       "              title=\"Convert this dataframe to an interactive table.\"\n",
       "              style=\"display:none;\">\n",
       "        \n",
       "  <svg xmlns=\"http://www.w3.org/2000/svg\" height=\"24px\"viewBox=\"0 0 24 24\"\n",
       "       width=\"24px\">\n",
       "    <path d=\"M0 0h24v24H0V0z\" fill=\"none\"/>\n",
       "    <path d=\"M18.56 5.44l.94 2.06.94-2.06 2.06-.94-2.06-.94-.94-2.06-.94 2.06-2.06.94zm-11 1L8.5 8.5l.94-2.06 2.06-.94-2.06-.94L8.5 2.5l-.94 2.06-2.06.94zm10 10l.94 2.06.94-2.06 2.06-.94-2.06-.94-.94-2.06-.94 2.06-2.06.94z\"/><path d=\"M17.41 7.96l-1.37-1.37c-.4-.4-.92-.59-1.43-.59-.52 0-1.04.2-1.43.59L10.3 9.45l-7.72 7.72c-.78.78-.78 2.05 0 2.83L4 21.41c.39.39.9.59 1.41.59.51 0 1.02-.2 1.41-.59l7.78-7.78 2.81-2.81c.8-.78.8-2.07 0-2.86zM5.41 20L4 18.59l7.72-7.72 1.47 1.35L5.41 20z\"/>\n",
       "  </svg>\n",
       "      </button>\n",
       "      \n",
       "  <style>\n",
       "    .colab-df-container {\n",
       "      display:flex;\n",
       "      flex-wrap:wrap;\n",
       "      gap: 12px;\n",
       "    }\n",
       "\n",
       "    .colab-df-convert {\n",
       "      background-color: #E8F0FE;\n",
       "      border: none;\n",
       "      border-radius: 50%;\n",
       "      cursor: pointer;\n",
       "      display: none;\n",
       "      fill: #1967D2;\n",
       "      height: 32px;\n",
       "      padding: 0 0 0 0;\n",
       "      width: 32px;\n",
       "    }\n",
       "\n",
       "    .colab-df-convert:hover {\n",
       "      background-color: #E2EBFA;\n",
       "      box-shadow: 0px 1px 2px rgba(60, 64, 67, 0.3), 0px 1px 3px 1px rgba(60, 64, 67, 0.15);\n",
       "      fill: #174EA6;\n",
       "    }\n",
       "\n",
       "    [theme=dark] .colab-df-convert {\n",
       "      background-color: #3B4455;\n",
       "      fill: #D2E3FC;\n",
       "    }\n",
       "\n",
       "    [theme=dark] .colab-df-convert:hover {\n",
       "      background-color: #434B5C;\n",
       "      box-shadow: 0px 1px 3px 1px rgba(0, 0, 0, 0.15);\n",
       "      filter: drop-shadow(0px 1px 2px rgba(0, 0, 0, 0.3));\n",
       "      fill: #FFFFFF;\n",
       "    }\n",
       "  </style>\n",
       "\n",
       "      <script>\n",
       "        const buttonEl =\n",
       "          document.querySelector('#df-e19ee114-f09c-40a7-9f27-41e00290995e button.colab-df-convert');\n",
       "        buttonEl.style.display =\n",
       "          google.colab.kernel.accessAllowed ? 'block' : 'none';\n",
       "\n",
       "        async function convertToInteractive(key) {\n",
       "          const element = document.querySelector('#df-e19ee114-f09c-40a7-9f27-41e00290995e');\n",
       "          const dataTable =\n",
       "            await google.colab.kernel.invokeFunction('convertToInteractive',\n",
       "                                                     [key], {});\n",
       "          if (!dataTable) return;\n",
       "\n",
       "          const docLinkHtml = 'Like what you see? Visit the ' +\n",
       "            '<a target=\"_blank\" href=https://colab.research.google.com/notebooks/data_table.ipynb>data table notebook</a>'\n",
       "            + ' to learn more about interactive tables.';\n",
       "          element.innerHTML = '';\n",
       "          dataTable['output_type'] = 'display_data';\n",
       "          await google.colab.output.renderOutput(dataTable, element);\n",
       "          const docLink = document.createElement('div');\n",
       "          docLink.innerHTML = docLinkHtml;\n",
       "          element.appendChild(docLink);\n",
       "        }\n",
       "      </script>\n",
       "    </div>\n",
       "  </div>\n",
       "  "
      ]
     },
     "metadata": {},
     "execution_count": 503
    }
   ]
  },
  {
   "cell_type": "markdown",
   "source": [
    "## Gráfico de barras del promedio de goles por mundial"
   ],
   "metadata": {
    "id": "uAKocOjoVvye"
   }
  },
  {
   "cell_type": "code",
   "source": [
    "sns.set(rc={'figure.figsize':(14,10)})\n",
    "ax = sns.barplot(data = avg_goals, y='Average Goals', x=avg_goals.index)\n",
    "plt.setp(ax.get_xticklabels(), rotation=90)"
   ],
   "metadata": {
    "colab": {
     "base_uri": "https://localhost:8080/",
     "height": 1000
    },
    "id": "Uct9NjLtOrfG",
    "outputId": "9e06e0fb-e354-4211-9c49-c63c1ed6a45c"
   },
   "execution_count": null,
   "outputs": [
    {
     "output_type": "execute_result",
     "data": {
      "text/plain": [
       "[None,\n",
       " None,\n",
       " None,\n",
       " None,\n",
       " None,\n",
       " None,\n",
       " None,\n",
       " None,\n",
       " None,\n",
       " None,\n",
       " None,\n",
       " None,\n",
       " None,\n",
       " None,\n",
       " None,\n",
       " None,\n",
       " None,\n",
       " None,\n",
       " None,\n",
       " None,\n",
       " None,\n",
       " None,\n",
       " None,\n",
       " None,\n",
       " None,\n",
       " None,\n",
       " None,\n",
       " None,\n",
       " None,\n",
       " None,\n",
       " None,\n",
       " None,\n",
       " None,\n",
       " None,\n",
       " None,\n",
       " None,\n",
       " None,\n",
       " None,\n",
       " None,\n",
       " None]"
      ]
     },
     "metadata": {},
     "execution_count": 504
    },
    {
     "output_type": "display_data",
     "data": {
      "text/plain": [
       "<Figure size 1008x720 with 1 Axes>"
      ],
      "image/png": "[encoded data removed]"
     },
     "metadata": {}
    }
   ]
  },
  {
   "cell_type": "markdown",
   "source": [
    "# Segunda Consigna"
   ],
   "metadata": {
    "id": "fz7aIN6RV6Bo"
   }
  },
  {
   "cell_type": "code",
   "source": [
    "# Me quedo sólo con los partidos cuya condición de victoria contiene la cadena penal,\n",
    "# y luego selecciono sólo las columnas Year, Home Team Name, Away Team Name y Win conditions\n",
    "matches_on_penalties = matches[matches['Win conditions'].str.contains('penal')].loc[:,['Home Team Initials', 'Away Team Initials', 'Win conditions', 'MatchID']]\n",
    "matches_on_penalties.head()"
   ],
   "metadata": {
    "colab": {
     "base_uri": "https://localhost:8080/",
     "height": 206
    },
    "id": "umF9vHlZV8ZN",
    "outputId": "d26359da-90f1-48f8-cc5d-cb947fa84b26"
   },
   "execution_count": null,
   "outputs": [
    {
     "output_type": "execute_result",
     "data": {
      "text/plain": [
       "    Home Team Initials Away Team Initials  \\\n",
       "357                FRG                FRA   \n",
       "404                BRA                FRA   \n",
       "405                FRG                MEX   \n",
       "406                ESP                BEL   \n",
       "452                IRL                ROU   \n",
       "\n",
       "                                    Win conditions  MatchID  \n",
       "357                      win on penalties (5 - 4)     914.0  \n",
       "404               France win on penalties (3 - 4)     440.0  \n",
       "405           Germany FR win on penalties (4 - 1)     575.0  \n",
       "406              Belgium win on penalties (4 - 5)     421.0  \n",
       "452  Republic of Ireland win on penalties (5 - 4)     248.0  "
      ],
      "text/html": [
       "\n",
       "  <div id=\"df-4592a54d-9432-4daf-bb65-321926143b26\">\n",
       "    <div class=\"colab-df-container\">\n",
       "      <div>\n",
       "<style scoped>\n",
       "    .dataframe tbody tr th:only-of-type {\n",
       "        vertical-align: middle;\n",
       "    }\n",
       "\n",
       "    .dataframe tbody tr th {\n",
       "        vertical-align: top;\n",
       "    }\n",
       "\n",
       "    .dataframe thead th {\n",
       "        text-align: right;\n",
       "    }\n",
       "</style>\n",
       "<table border=\"1\" class=\"dataframe\">\n",
       "  <thead>\n",
       "    <tr style=\"text-align: right;\">\n",
       "      <th></th>\n",
       "      <th>Home Team Initials</th>\n",
       "      <th>Away Team Initials</th>\n",
       "      <th>Win conditions</th>\n",
       "      <th>MatchID</th>\n",
       "    </tr>\n",
       "  </thead>\n",
       "  <tbody>\n",
       "    <tr>\n",
       "      <th>357</th>\n",
       "      <td>FRG</td>\n",
       "      <td>FRA</td>\n",
       "      <td>win on penalties (5 - 4)</td>\n",
       "      <td>914.0</td>\n",
       "    </tr>\n",
       "    <tr>\n",
       "      <th>404</th>\n",
       "      <td>BRA</td>\n",
       "      <td>FRA</td>\n",
       "      <td>France win on penalties (3 - 4)</td>\n",
       "      <td>440.0</td>\n",
       "    </tr>\n",
       "    <tr>\n",
       "      <th>405</th>\n",
       "      <td>FRG</td>\n",
       "      <td>MEX</td>\n",
       "      <td>Germany FR win on penalties (4 - 1)</td>\n",
       "      <td>575.0</td>\n",
       "    </tr>\n",
       "    <tr>\n",
       "      <th>406</th>\n",
       "      <td>ESP</td>\n",
       "      <td>BEL</td>\n",
       "      <td>Belgium win on penalties (4 - 5)</td>\n",
       "      <td>421.0</td>\n",
       "    </tr>\n",
       "    <tr>\n",
       "      <th>452</th>\n",
       "      <td>IRL</td>\n",
       "      <td>ROU</td>\n",
       "      <td>Republic of Ireland win on penalties (5 - 4)</td>\n",
       "      <td>248.0</td>\n",
       "    </tr>\n",
       "  </tbody>\n",
       "</table>\n",
       "</div>\n",
       "      <button class=\"colab-df-convert\" onclick=\"convertToInteractive('df-4592a54d-9432-4daf-bb65-321926143b26')\"\n",
       "              title=\"Convert this dataframe to an interactive table.\"\n",
       "              style=\"display:none;\">\n",
       "        \n",
       "  <svg xmlns=\"http://www.w3.org/2000/svg\" height=\"24px\"viewBox=\"0 0 24 24\"\n",
       "       width=\"24px\">\n",
       "    <path d=\"M0 0h24v24H0V0z\" fill=\"none\"/>\n",
       "    <path d=\"M18.56 5.44l.94 2.06.94-2.06 2.06-.94-2.06-.94-.94-2.06-.94 2.06-2.06.94zm-11 1L8.5 8.5l.94-2.06 2.06-.94-2.06-.94L8.5 2.5l-.94 2.06-2.06.94zm10 10l.94 2.06.94-2.06 2.06-.94-2.06-.94-.94-2.06-.94 2.06-2.06.94z\"/><path d=\"M17.41 7.96l-1.37-1.37c-.4-.4-.92-.59-1.43-.59-.52 0-1.04.2-1.43.59L10.3 9.45l-7.72 7.72c-.78.78-.78 2.05 0 2.83L4 21.41c.39.39.9.59 1.41.59.51 0 1.02-.2 1.41-.59l7.78-7.78 2.81-2.81c.8-.78.8-2.07 0-2.86zM5.41 20L4 18.59l7.72-7.72 1.47 1.35L5.41 20z\"/>\n",
       "  </svg>\n",
       "      </button>\n",
       "      \n",
       "  <style>\n",
       "    .colab-df-container {\n",
       "      display:flex;\n",
       "      flex-wrap:wrap;\n",
       "      gap: 12px;\n",
       "    }\n",
       "\n",
       "    .colab-df-convert {\n",
       "      background-color: #E8F0FE;\n",
       "      border: none;\n",
       "      border-radius: 50%;\n",
       "      cursor: pointer;\n",
       "      display: none;\n",
       "      fill: #1967D2;\n",
       "      height: 32px;\n",
       "      padding: 0 0 0 0;\n",
       "      width: 32px;\n",
       "    }\n",
       "\n",
       "    .colab-df-convert:hover {\n",
       "      background-color: #E2EBFA;\n",
       "      box-shadow: 0px 1px 2px rgba(60, 64, 67, 0.3), 0px 1px 3px 1px rgba(60, 64, 67, 0.15);\n",
       "      fill: #174EA6;\n",
       "    }\n",
       "\n",
       "    [theme=dark] .colab-df-convert {\n",
       "      background-color: #3B4455;\n",
       "      fill: #D2E3FC;\n",
       "    }\n",
       "\n",
       "    [theme=dark] .colab-df-convert:hover {\n",
       "      background-color: #434B5C;\n",
       "      box-shadow: 0px 1px 3px 1px rgba(0, 0, 0, 0.15);\n",
       "      filter: drop-shadow(0px 1px 2px rgba(0, 0, 0, 0.3));\n",
       "      fill: #FFFFFF;\n",
       "    }\n",
       "  </style>\n",
       "\n",
       "      <script>\n",
       "        const buttonEl =\n",
       "          document.querySelector('#df-4592a54d-9432-4daf-bb65-321926143b26 button.colab-df-convert');\n",
       "        buttonEl.style.display =\n",
       "          google.colab.kernel.accessAllowed ? 'block' : 'none';\n",
       "\n",
       "        async function convertToInteractive(key) {\n",
       "          const element = document.querySelector('#df-4592a54d-9432-4daf-bb65-321926143b26');\n",
       "          const dataTable =\n",
       "            await google.colab.kernel.invokeFunction('convertToInteractive',\n",
       "                                                     [key], {});\n",
       "          if (!dataTable) return;\n",
       "\n",
       "          const docLinkHtml = 'Like what you see? Visit the ' +\n",
       "            '<a target=\"_blank\" href=https://colab.research.google.com/notebooks/data_table.ipynb>data table notebook</a>'\n",
       "            + ' to learn more about interactive tables.';\n",
       "          element.innerHTML = '';\n",
       "          dataTable['output_type'] = 'display_data';\n",
       "          await google.colab.output.renderOutput(dataTable, element);\n",
       "          const docLink = document.createElement('div');\n",
       "          docLink.innerHTML = docLinkHtml;\n",
       "          element.appendChild(docLink);\n",
       "        }\n",
       "      </script>\n",
       "    </div>\n",
       "  </div>\n",
       "  "
      ]
     },
     "metadata": {},
     "execution_count": 505
    }
   ]
  },
  {
   "cell_type": "markdown",
   "source": [
    "## Países que ganaron por penalties"
   ],
   "metadata": {
    "id": "AOO6kpIonw0y"
   }
  },
  {
   "cell_type": "markdown",
   "source": [
    "Al hacer un análisis rápido de los datos, veo que en win conditions tengo datos que no indican el país ganador. Como el resultado de la tanda de penalties está ordenadad de tal manera que el equipo de casa está a la izquiera, y el visitante a la derecha, puedo usar el resultado para determinar al ganador."
   ],
   "metadata": {
    "id": "a0DHaz3pgJcS"
   }
  },
  {
   "cell_type": "code",
   "source": [
    "def checkWinner(row):\n",
    "  \"\"\"Esta función sirve para determinar al ganador de la tanda de penalties\"\"\"\n",
    "  a,b = row['Win conditions'].split('-') # divido el valor dado en Win conditions tomando como referencia el caracter -\n",
    "  a = a[-2] # Me quedo sólo con el número a la izquierda de -\n",
    "  b = b[1] # Me quedo sólo con el número a la derecha de -\n",
    "  if a > b:\n",
    "    return row['Home Team Initials']\n",
    "  else:\n",
    "    return row['Away Team Initials']"
   ],
   "metadata": {
    "id": "nHJllobaay0j"
   },
   "execution_count": null,
   "outputs": []
  },
  {
   "cell_type": "code",
   "source": [
    "# Aplico la función definida anteriormente sobre cada fila y su resultado lo guardo en una nueva columna que indica al ganador\n",
    "matches_on_penalties['Winner'] = matches_on_penalties.apply(checkWinner, axis=1)\n",
    "matches_on_penalties"
   ],
   "metadata": {
    "colab": {
     "base_uri": "https://localhost:8080/",
     "height": 990
    },
    "id": "Un_wJCYvZ5wj",
    "outputId": "a00cccd6-f938-4d7a-b19a-701fb9beb13a"
   },
   "execution_count": null,
   "outputs": [
    {
     "output_type": "execute_result",
     "data": {
      "text/plain": [
       "    Home Team Initials Away Team Initials  \\\n",
       "357                FRG                FRA   \n",
       "404                BRA                FRA   \n",
       "405                FRG                MEX   \n",
       "406                ESP                BEL   \n",
       "452                IRL                ROU   \n",
       "456                YUG                ARG   \n",
       "460                ITA                ARG   \n",
       "461                FRG                ENG   \n",
       "507                MEX                BUL   \n",
       "511                ROU                SWE   \n",
       "515                BRA                ITA   \n",
       "571                ARG                ENG   \n",
       "572                ITA                FRA   \n",
       "576                BRA                NED   \n",
       "630                ESP                IRL   \n",
       "639                ESP                KOR   \n",
       "697                SUI                UKR   \n",
       "700                GER                ARG   \n",
       "702                ENG                POR   \n",
       "707                ITA                FRA   \n",
       "762                PAR                JPN   \n",
       "765                URU                GHA   \n",
       "820                BRA                CHI   \n",
       "829                NED                ARG   \n",
       "830                NED                CRC   \n",
       "833                CRC                GRE   \n",
       "836                BRA                CHI   \n",
       "839                CRC                GRE   \n",
       "847                NED                CRC   \n",
       "849                NED                ARG   \n",
       "\n",
       "                                    Win conditions      MatchID Winner  \n",
       "357                      win on penalties (5 - 4)         914.0    FRG  \n",
       "404               France win on penalties (3 - 4)         440.0    FRA  \n",
       "405           Germany FR win on penalties (4 - 1)         575.0    FRG  \n",
       "406              Belgium win on penalties (4 - 5)         421.0    BEL  \n",
       "452  Republic of Ireland win on penalties (5 - 4)         248.0    IRL  \n",
       "456                      win on penalties (2 - 3)          31.0    ARG  \n",
       "460                      win on penalties (3 - 4)          28.0    ARG  \n",
       "461                      win on penalties (4 - 3)         159.0    FRG  \n",
       "507             Bulgaria win on penalties (1 - 3)        3092.0    BUL  \n",
       "511               Sweden win on penalties (4 - 5)        3095.0    SWE  \n",
       "515               Brazil win on penalties (3 - 2)        3104.0    BRA  \n",
       "571            Argentina win on penalties (4 - 3)        8779.0    ARG  \n",
       "572               France win on penalties (3 - 4)        8781.0    FRA  \n",
       "576               Brazil win on penalties (4 - 2)        8785.0    BRA  \n",
       "630                Spain win on penalties (3 - 2)    43950052.0    ESP  \n",
       "639       Korea Republic win on penalties (3 - 5)    43950059.0    KOR  \n",
       "697              Ukraine win on penalties (0 - 3)    97410054.0    UKR  \n",
       "700              Germany win on penalties (4 - 2)    97410057.0    GER  \n",
       "702             Portugal win on penalties (1 - 3)    97410059.0    POR  \n",
       "707                Italy win on penalties (5 - 3)    97410064.0    ITA  \n",
       "762             Paraguay win on penalties (5 - 3)   300061497.0    PAR  \n",
       "765              Uruguay win on penalties (4 - 2)   300061508.0    URU  \n",
       "820               Brazil win on penalties (3 - 2)   300186487.0    BRA  \n",
       "829            Argentina win on penalties (2 - 4)   300186490.0    ARG  \n",
       "830          Netherlands win on penalties (4 - 3)   300186488.0    NED  \n",
       "833           Costa Rica win on penalties (5 - 3)   300186459.0    CRC  \n",
       "836               Brazil win on penalties (3 - 2)   300186487.0    BRA  \n",
       "839           Costa Rica win on penalties (5 - 3)   300186459.0    CRC  \n",
       "847          Netherlands win on penalties (4 - 3)   300186488.0    NED  \n",
       "849            Argentina win on penalties (2 - 4)   300186490.0    ARG  "
      ],
      "text/html": [
       "\n",
       "  <div id=\"df-c0955307-842d-407e-96cf-ad80f8ac474b\">\n",
       "    <div class=\"colab-df-container\">\n",
       "      <div>\n",
       "<style scoped>\n",
       "    .dataframe tbody tr th:only-of-type {\n",
       "        vertical-align: middle;\n",
       "    }\n",
       "\n",
       "    .dataframe tbody tr th {\n",
       "        vertical-align: top;\n",
       "    }\n",
       "\n",
       "    .dataframe thead th {\n",
       "        text-align: right;\n",
       "    }\n",
       "</style>\n",
       "<table border=\"1\" class=\"dataframe\">\n",
       "  <thead>\n",
       "    <tr style=\"text-align: right;\">\n",
       "      <th></th>\n",
       "      <th>Home Team Initials</th>\n",
       "      <th>Away Team Initials</th>\n",
       "      <th>Win conditions</th>\n",
       "      <th>MatchID</th>\n",
       "      <th>Winner</th>\n",
       "    </tr>\n",
       "  </thead>\n",
       "  <tbody>\n",
       "    <tr>\n",
       "      <th>357</th>\n",
       "      <td>FRG</td>\n",
       "      <td>FRA</td>\n",
       "      <td>win on penalties (5 - 4)</td>\n",
       "      <td>914.0</td>\n",
       "      <td>FRG</td>\n",
       "    </tr>\n",
       "    <tr>\n",
       "      <th>404</th>\n",
       "      <td>BRA</td>\n",
       "      <td>FRA</td>\n",
       "      <td>France win on penalties (3 - 4)</td>\n",
       "      <td>440.0</td>\n",
       "      <td>FRA</td>\n",
       "    </tr>\n",
       "    <tr>\n",
       "      <th>405</th>\n",
       "      <td>FRG</td>\n",
       "      <td>MEX</td>\n",
       "      <td>Germany FR win on penalties (4 - 1)</td>\n",
       "      <td>575.0</td>\n",
       "      <td>FRG</td>\n",
       "    </tr>\n",
       "    <tr>\n",
       "      <th>406</th>\n",
       "      <td>ESP</td>\n",
       "      <td>BEL</td>\n",
       "      <td>Belgium win on penalties (4 - 5)</td>\n",
       "      <td>421.0</td>\n",
       "      <td>BEL</td>\n",
       "    </tr>\n",
       "    <tr>\n",
       "      <th>452</th>\n",
       "      <td>IRL</td>\n",
       "      <td>ROU</td>\n",
       "      <td>Republic of Ireland win on penalties (5 - 4)</td>\n",
       "      <td>248.0</td>\n",
       "      <td>IRL</td>\n",
       "    </tr>\n",
       "    <tr>\n",
       "      <th>456</th>\n",
       "      <td>YUG</td>\n",
       "      <td>ARG</td>\n",
       "      <td>win on penalties (2 - 3)</td>\n",
       "      <td>31.0</td>\n",
       "      <td>ARG</td>\n",
       "    </tr>\n",
       "    <tr>\n",
       "      <th>460</th>\n",
       "      <td>ITA</td>\n",
       "      <td>ARG</td>\n",
       "      <td>win on penalties (3 - 4)</td>\n",
       "      <td>28.0</td>\n",
       "      <td>ARG</td>\n",
       "    </tr>\n",
       "    <tr>\n",
       "      <th>461</th>\n",
       "      <td>FRG</td>\n",
       "      <td>ENG</td>\n",
       "      <td>win on penalties (4 - 3)</td>\n",
       "      <td>159.0</td>\n",
       "      <td>FRG</td>\n",
       "    </tr>\n",
       "    <tr>\n",
       "      <th>507</th>\n",
       "      <td>MEX</td>\n",
       "      <td>BUL</td>\n",
       "      <td>Bulgaria win on penalties (1 - 3)</td>\n",
       "      <td>3092.0</td>\n",
       "      <td>BUL</td>\n",
       "    </tr>\n",
       "    <tr>\n",
       "      <th>511</th>\n",
       "      <td>ROU</td>\n",
       "      <td>SWE</td>\n",
       "      <td>Sweden win on penalties (4 - 5)</td>\n",
       "      <td>3095.0</td>\n",
       "      <td>SWE</td>\n",
       "    </tr>\n",
       "    <tr>\n",
       "      <th>515</th>\n",
       "      <td>BRA</td>\n",
       "      <td>ITA</td>\n",
       "      <td>Brazil win on penalties (3 - 2)</td>\n",
       "      <td>3104.0</td>\n",
       "      <td>BRA</td>\n",
       "    </tr>\n",
       "    <tr>\n",
       "      <th>571</th>\n",
       "      <td>ARG</td>\n",
       "      <td>ENG</td>\n",
       "      <td>Argentina win on penalties (4 - 3)</td>\n",
       "      <td>8779.0</td>\n",
       "      <td>ARG</td>\n",
       "    </tr>\n",
       "    <tr>\n",
       "      <th>572</th>\n",
       "      <td>ITA</td>\n",
       "      <td>FRA</td>\n",
       "      <td>France win on penalties (3 - 4)</td>\n",
       "      <td>8781.0</td>\n",
       "      <td>FRA</td>\n",
       "    </tr>\n",
       "    <tr>\n",
       "      <th>576</th>\n",
       "      <td>BRA</td>\n",
       "      <td>NED</td>\n",
       "      <td>Brazil win on penalties (4 - 2)</td>\n",
       "      <td>8785.0</td>\n",
       "      <td>BRA</td>\n",
       "    </tr>\n",
       "    <tr>\n",
       "      <th>630</th>\n",
       "      <td>ESP</td>\n",
       "      <td>IRL</td>\n",
       "      <td>Spain win on penalties (3 - 2)</td>\n",
       "      <td>43950052.0</td>\n",
       "      <td>ESP</td>\n",
       "    </tr>\n",
       "    <tr>\n",
       "      <th>639</th>\n",
       "      <td>ESP</td>\n",
       "      <td>KOR</td>\n",
       "      <td>Korea Republic win on penalties (3 - 5)</td>\n",
       "      <td>43950059.0</td>\n",
       "      <td>KOR</td>\n",
       "    </tr>\n",
       "    <tr>\n",
       "      <th>697</th>\n",
       "      <td>SUI</td>\n",
       "      <td>UKR</td>\n",
       "      <td>Ukraine win on penalties (0 - 3)</td>\n",
       "      <td>97410054.0</td>\n",
       "      <td>UKR</td>\n",
       "    </tr>\n",
       "    <tr>\n",
       "      <th>700</th>\n",
       "      <td>GER</td>\n",
       "      <td>ARG</td>\n",
       "      <td>Germany win on penalties (4 - 2)</td>\n",
       "      <td>97410057.0</td>\n",
       "      <td>GER</td>\n",
       "    </tr>\n",
       "    <tr>\n",
       "      <th>702</th>\n",
       "      <td>ENG</td>\n",
       "      <td>POR</td>\n",
       "      <td>Portugal win on penalties (1 - 3)</td>\n",
       "      <td>97410059.0</td>\n",
       "      <td>POR</td>\n",
       "    </tr>\n",
       "    <tr>\n",
       "      <th>707</th>\n",
       "      <td>ITA</td>\n",
       "      <td>FRA</td>\n",
       "      <td>Italy win on penalties (5 - 3)</td>\n",
       "      <td>97410064.0</td>\n",
       "      <td>ITA</td>\n",
       "    </tr>\n",
       "    <tr>\n",
       "      <th>762</th>\n",
       "      <td>PAR</td>\n",
       "      <td>JPN</td>\n",
       "      <td>Paraguay win on penalties (5 - 3)</td>\n",
       "      <td>300061497.0</td>\n",
       "      <td>PAR</td>\n",
       "    </tr>\n",
       "    <tr>\n",
       "      <th>765</th>\n",
       "      <td>URU</td>\n",
       "      <td>GHA</td>\n",
       "      <td>Uruguay win on penalties (4 - 2)</td>\n",
       "      <td>300061508.0</td>\n",
       "      <td>URU</td>\n",
       "    </tr>\n",
       "    <tr>\n",
       "      <th>820</th>\n",
       "      <td>BRA</td>\n",
       "      <td>CHI</td>\n",
       "      <td>Brazil win on penalties (3 - 2)</td>\n",
       "      <td>300186487.0</td>\n",
       "      <td>BRA</td>\n",
       "    </tr>\n",
       "    <tr>\n",
       "      <th>829</th>\n",
       "      <td>NED</td>\n",
       "      <td>ARG</td>\n",
       "      <td>Argentina win on penalties (2 - 4)</td>\n",
       "      <td>300186490.0</td>\n",
       "      <td>ARG</td>\n",
       "    </tr>\n",
       "    <tr>\n",
       "      <th>830</th>\n",
       "      <td>NED</td>\n",
       "      <td>CRC</td>\n",
       "      <td>Netherlands win on penalties (4 - 3)</td>\n",
       "      <td>300186488.0</td>\n",
       "      <td>NED</td>\n",
       "    </tr>\n",
       "    <tr>\n",
       "      <th>833</th>\n",
       "      <td>CRC</td>\n",
       "      <td>GRE</td>\n",
       "      <td>Costa Rica win on penalties (5 - 3)</td>\n",
       "      <td>300186459.0</td>\n",
       "      <td>CRC</td>\n",
       "    </tr>\n",
       "    <tr>\n",
       "      <th>836</th>\n",
       "      <td>BRA</td>\n",
       "      <td>CHI</td>\n",
       "      <td>Brazil win on penalties (3 - 2)</td>\n",
       "      <td>300186487.0</td>\n",
       "      <td>BRA</td>\n",
       "    </tr>\n",
       "    <tr>\n",
       "      <th>839</th>\n",
       "      <td>CRC</td>\n",
       "      <td>GRE</td>\n",
       "      <td>Costa Rica win on penalties (5 - 3)</td>\n",
       "      <td>300186459.0</td>\n",
       "      <td>CRC</td>\n",
       "    </tr>\n",
       "    <tr>\n",
       "      <th>847</th>\n",
       "      <td>NED</td>\n",
       "      <td>CRC</td>\n",
       "      <td>Netherlands win on penalties (4 - 3)</td>\n",
       "      <td>300186488.0</td>\n",
       "      <td>NED</td>\n",
       "    </tr>\n",
       "    <tr>\n",
       "      <th>849</th>\n",
       "      <td>NED</td>\n",
       "      <td>ARG</td>\n",
       "      <td>Argentina win on penalties (2 - 4)</td>\n",
       "      <td>300186490.0</td>\n",
       "      <td>ARG</td>\n",
       "    </tr>\n",
       "  </tbody>\n",
       "</table>\n",
       "</div>\n",
       "      <button class=\"colab-df-convert\" onclick=\"convertToInteractive('df-c0955307-842d-407e-96cf-ad80f8ac474b')\"\n",
       "              title=\"Convert this dataframe to an interactive table.\"\n",
       "              style=\"display:none;\">\n",
       "        \n",
       "  <svg xmlns=\"http://www.w3.org/2000/svg\" height=\"24px\"viewBox=\"0 0 24 24\"\n",
       "       width=\"24px\">\n",
       "    <path d=\"M0 0h24v24H0V0z\" fill=\"none\"/>\n",
       "    <path d=\"M18.56 5.44l.94 2.06.94-2.06 2.06-.94-2.06-.94-.94-2.06-.94 2.06-2.06.94zm-11 1L8.5 8.5l.94-2.06 2.06-.94-2.06-.94L8.5 2.5l-.94 2.06-2.06.94zm10 10l.94 2.06.94-2.06 2.06-.94-2.06-.94-.94-2.06-.94 2.06-2.06.94z\"/><path d=\"M17.41 7.96l-1.37-1.37c-.4-.4-.92-.59-1.43-.59-.52 0-1.04.2-1.43.59L10.3 9.45l-7.72 7.72c-.78.78-.78 2.05 0 2.83L4 21.41c.39.39.9.59 1.41.59.51 0 1.02-.2 1.41-.59l7.78-7.78 2.81-2.81c.8-.78.8-2.07 0-2.86zM5.41 20L4 18.59l7.72-7.72 1.47 1.35L5.41 20z\"/>\n",
       "  </svg>\n",
       "      </button>\n",
       "      \n",
       "  <style>\n",
       "    .colab-df-container {\n",
       "      display:flex;\n",
       "      flex-wrap:wrap;\n",
       "      gap: 12px;\n",
       "    }\n",
       "\n",
       "    .colab-df-convert {\n",
       "      background-color: #E8F0FE;\n",
       "      border: none;\n",
       "      border-radius: 50%;\n",
       "      cursor: pointer;\n",
       "      display: none;\n",
       "      fill: #1967D2;\n",
       "      height: 32px;\n",
       "      padding: 0 0 0 0;\n",
       "      width: 32px;\n",
       "    }\n",
       "\n",
       "    .colab-df-convert:hover {\n",
       "      background-color: #E2EBFA;\n",
       "      box-shadow: 0px 1px 2px rgba(60, 64, 67, 0.3), 0px 1px 3px 1px rgba(60, 64, 67, 0.15);\n",
       "      fill: #174EA6;\n",
       "    }\n",
       "\n",
       "    [theme=dark] .colab-df-convert {\n",
       "      background-color: #3B4455;\n",
       "      fill: #D2E3FC;\n",
       "    }\n",
       "\n",
       "    [theme=dark] .colab-df-convert:hover {\n",
       "      background-color: #434B5C;\n",
       "      box-shadow: 0px 1px 3px 1px rgba(0, 0, 0, 0.15);\n",
       "      filter: drop-shadow(0px 1px 2px rgba(0, 0, 0, 0.3));\n",
       "      fill: #FFFFFF;\n",
       "    }\n",
       "  </style>\n",
       "\n",
       "      <script>\n",
       "        const buttonEl =\n",
       "          document.querySelector('#df-c0955307-842d-407e-96cf-ad80f8ac474b button.colab-df-convert');\n",
       "        buttonEl.style.display =\n",
       "          google.colab.kernel.accessAllowed ? 'block' : 'none';\n",
       "\n",
       "        async function convertToInteractive(key) {\n",
       "          const element = document.querySelector('#df-c0955307-842d-407e-96cf-ad80f8ac474b');\n",
       "          const dataTable =\n",
       "            await google.colab.kernel.invokeFunction('convertToInteractive',\n",
       "                                                     [key], {});\n",
       "          if (!dataTable) return;\n",
       "\n",
       "          const docLinkHtml = 'Like what you see? Visit the ' +\n",
       "            '<a target=\"_blank\" href=https://colab.research.google.com/notebooks/data_table.ipynb>data table notebook</a>'\n",
       "            + ' to learn more about interactive tables.';\n",
       "          element.innerHTML = '';\n",
       "          dataTable['output_type'] = 'display_data';\n",
       "          await google.colab.output.renderOutput(dataTable, element);\n",
       "          const docLink = document.createElement('div');\n",
       "          docLink.innerHTML = docLinkHtml;\n",
       "          element.appendChild(docLink);\n",
       "        }\n",
       "      </script>\n",
       "    </div>\n",
       "  </div>\n",
       "  "
      ]
     },
     "metadata": {},
     "execution_count": 507
    }
   ]
  },
  {
   "cell_type": "code",
   "source": [
    "count = matches_on_penalties['Winner'].value_counts()\n",
    "count"
   ],
   "metadata": {
    "colab": {
     "base_uri": "https://localhost:8080/"
    },
    "id": "04UWVEkHheUj",
    "outputId": "7eceef2d-e288-42ac-cdfe-24a04740403c"
   },
   "execution_count": null,
   "outputs": [
    {
     "output_type": "execute_result",
     "data": {
      "text/plain": [
       "ARG    5\n",
       "BRA    4\n",
       "FRG    3\n",
       "NED    2\n",
       "FRA    2\n",
       "CRC    2\n",
       "SWE    1\n",
       "BUL    1\n",
       "ESP    1\n",
       "IRL    1\n",
       "UKR    1\n",
       "GER    1\n",
       "POR    1\n",
       "ITA    1\n",
       "PAR    1\n",
       "URU    1\n",
       "BEL    1\n",
       "KOR    1\n",
       "Name: Winner, dtype: int64"
      ]
     },
     "metadata": {},
     "execution_count": 508
    }
   ]
  },
  {
   "cell_type": "code",
   "source": [
    "sns.set(rc={'figure.figsize':(14,10)})\n",
    "ax = sns.barplot(y = count, x=count.keys())\n",
    "plt.setp(ax.get_xticklabels(), rotation=90)"
   ],
   "metadata": {
    "colab": {
     "base_uri": "https://localhost:8080/",
     "height": 1000
    },
    "id": "QlWtIAR8lDGW",
    "outputId": "9007af8f-6ba5-4ad1-d110-64dc1b9eafd5"
   },
   "execution_count": null,
   "outputs": [
    {
     "output_type": "execute_result",
     "data": {
      "text/plain": [
       "[None,\n",
       " None,\n",
       " None,\n",
       " None,\n",
       " None,\n",
       " None,\n",
       " None,\n",
       " None,\n",
       " None,\n",
       " None,\n",
       " None,\n",
       " None,\n",
       " None,\n",
       " None,\n",
       " None,\n",
       " None,\n",
       " None,\n",
       " None,\n",
       " None,\n",
       " None,\n",
       " None,\n",
       " None,\n",
       " None,\n",
       " None,\n",
       " None,\n",
       " None,\n",
       " None,\n",
       " None,\n",
       " None,\n",
       " None,\n",
       " None,\n",
       " None,\n",
       " None,\n",
       " None,\n",
       " None,\n",
       " None]"
      ]
     },
     "metadata": {},
     "execution_count": 509
    },
    {
     "output_type": "display_data",
     "data": {
      "text/plain": [
       "<Figure size 1008x720 with 1 Axes>"
      ],
      "image/png": "[encoded data removed]"
     },
     "metadata": {}
    }
   ]
  },
  {
   "cell_type": "markdown",
   "source": [
    "## Arqueros que ganaron por penalties"
   ],
   "metadata": {
    "id": "PYA4fzQBn44H"
   }
  },
  {
   "cell_type": "code",
   "source": [
    "players_on_penalties = matches_on_penalties.merge(players, on='MatchID')"
   ],
   "metadata": {
    "id": "7XowqIEqn7-Q"
   },
   "execution_count": null,
   "outputs": []
  },
  {
   "cell_type": "markdown",
   "source": [
    "Asumiré que los arqueros que ganaron en penales son los mismos que iniciaron el encuentro, dada la baja probabilidad de que se los sustituya, y la ausencia de información sobre una posible sustitución."
   ],
   "metadata": {
    "id": "Mna6YGtsur9M"
   }
  },
  {
   "cell_type": "code",
   "source": [
    "winner_gk = players_on_penalties[(players_on_penalties['Position'] == 'GK') & (players_on_penalties['Line-up'] == 'S') & (players_on_penalties['Winner'] == players_on_penalties['Team Initials'])]"
   ],
   "metadata": {
    "id": "WJC3T8SklrlM"
   },
   "execution_count": null,
   "outputs": []
  },
  {
   "cell_type": "code",
   "source": [
    "winner_gk['Player Name'].value_counts()"
   ],
   "metadata": {
    "colab": {
     "base_uri": "https://localhost:8080/"
    },
    "id": "8vQaE2v4uAtF",
    "outputId": "5d2579d1-f1ab-4d8f-985d-20d8e084fa34"
   },
   "execution_count": null,
   "outputs": [
    {
     "output_type": "execute_result",
     "data": {
      "text/plain": [
       "NAVAS K.             4\n",
       "CILLESSEN            4\n",
       "ROMERO               4\n",
       "JULIO CESAR          4\n",
       "TAFFAREL             2\n",
       "Harald SCHUMACHER    2\n",
       "Sergio GOYCOCHEA     2\n",
       "Thomas RAVELLI       1\n",
       "Bodo ILLGNER         1\n",
       "Carlos ROA           1\n",
       "Fabien BARTHEZ       1\n",
       "Joel BATS            1\n",
       "W J LEE              1\n",
       "SHOVKOVSKYI          1\n",
       "LEHMANN              1\n",
       "RICARDO              1\n",
       "BUFFON               1\n",
       "MUSLERA              1\n",
       "Pat BONNER           1\n",
       "Jean Marie PFAFF     1\n",
       "CASILLAS             1\n",
       "Name: Player Name, dtype: int64"
      ]
     },
     "metadata": {},
     "execution_count": 512
    }
   ]
  },
  {
   "cell_type": "markdown",
   "source": [
    "Como podemos ver en el resultado anterior, existen 4 arqueros que han ganado 4 veces por penales. Ellos son: Navas K., Cillessen, Romero, Julio Cesar."
   ],
   "metadata": {
    "id": "aVl7Exjsueh2"
   }
  },
  {
   "cell_type": "markdown",
   "source": [
    "# Tercera consigna"
   ],
   "metadata": {
    "id": "g5WMSGfqloSt"
   }
  },
  {
   "cell_type": "markdown",
   "source": [
    "## Goles en la totalidad de los partidos"
   ],
   "metadata": {
    "id": "4-Xt2OAFMmRQ"
   }
  },
  {
   "cell_type": "code",
   "source": [
    "# Uno los dataframes de partidos y jugadores\n",
    "matches_goals = matches.loc[:,['Stage', 'MatchID']].merge(players.loc[:,['MatchID', 'Event']], on='MatchID')\n",
    "matches_goals.dropna(inplace=True)\n",
    "matches_goals"
   ],
   "metadata": {
    "colab": {
     "base_uri": "https://localhost:8080/",
     "height": 424
    },
    "id": "-c6Id9r5y9Cb",
    "outputId": "321398a1-3902-4a12-ed6a-7be12823eb2e"
   },
   "execution_count": null,
   "outputs": [
    {
     "output_type": "execute_result",
     "data": {
      "text/plain": [
       "             Stage      MatchID        Event\n",
       "2          Group 1       1096.0         G40'\n",
       "3          Group 1       1096.0         G70'\n",
       "6          Group 1       1096.0    G43' G87'\n",
       "14         Group 1       1096.0         G19'\n",
       "35         Group 4       1090.0         G45'\n",
       "...            ...          ...          ...\n",
       "39054  Round of 16  300186497.0   I91' G105'\n",
       "39056  Round of 16  300186497.0         I60'\n",
       "39064  Round of 16  300186497.0        I111'\n",
       "39065  Round of 16  300186497.0  I105' G107'\n",
       "39069  Round of 16  300186497.0         I72'\n",
       "\n",
       "[9505 rows x 3 columns]"
      ],
      "text/html": [
       "\n",
       "  <div id=\"df-8ce9591b-c4ce-47dd-bba2-c1fa64a67b7c\">\n",
       "    <div class=\"colab-df-container\">\n",
       "      <div>\n",
       "<style scoped>\n",
       "    .dataframe tbody tr th:only-of-type {\n",
       "        vertical-align: middle;\n",
       "    }\n",
       "\n",
       "    .dataframe tbody tr th {\n",
       "        vertical-align: top;\n",
       "    }\n",
       "\n",
       "    .dataframe thead th {\n",
       "        text-align: right;\n",
       "    }\n",
       "</style>\n",
       "<table border=\"1\" class=\"dataframe\">\n",
       "  <thead>\n",
       "    <tr style=\"text-align: right;\">\n",
       "      <th></th>\n",
       "      <th>Stage</th>\n",
       "      <th>MatchID</th>\n",
       "      <th>Event</th>\n",
       "    </tr>\n",
       "  </thead>\n",
       "  <tbody>\n",
       "    <tr>\n",
       "      <th>2</th>\n",
       "      <td>Group 1</td>\n",
       "      <td>1096.0</td>\n",
       "      <td>G40'</td>\n",
       "    </tr>\n",
       "    <tr>\n",
       "      <th>3</th>\n",
       "      <td>Group 1</td>\n",
       "      <td>1096.0</td>\n",
       "      <td>G70'</td>\n",
       "    </tr>\n",
       "    <tr>\n",
       "      <th>6</th>\n",
       "      <td>Group 1</td>\n",
       "      <td>1096.0</td>\n",
       "      <td>G43' G87'</td>\n",
       "    </tr>\n",
       "    <tr>\n",
       "      <th>14</th>\n",
       "      <td>Group 1</td>\n",
       "      <td>1096.0</td>\n",
       "      <td>G19'</td>\n",
       "    </tr>\n",
       "    <tr>\n",
       "      <th>35</th>\n",
       "      <td>Group 4</td>\n",
       "      <td>1090.0</td>\n",
       "      <td>G45'</td>\n",
       "    </tr>\n",
       "    <tr>\n",
       "      <th>...</th>\n",
       "      <td>...</td>\n",
       "      <td>...</td>\n",
       "      <td>...</td>\n",
       "    </tr>\n",
       "    <tr>\n",
       "      <th>39054</th>\n",
       "      <td>Round of 16</td>\n",
       "      <td>300186497.0</td>\n",
       "      <td>I91' G105'</td>\n",
       "    </tr>\n",
       "    <tr>\n",
       "      <th>39056</th>\n",
       "      <td>Round of 16</td>\n",
       "      <td>300186497.0</td>\n",
       "      <td>I60'</td>\n",
       "    </tr>\n",
       "    <tr>\n",
       "      <th>39064</th>\n",
       "      <td>Round of 16</td>\n",
       "      <td>300186497.0</td>\n",
       "      <td>I111'</td>\n",
       "    </tr>\n",
       "    <tr>\n",
       "      <th>39065</th>\n",
       "      <td>Round of 16</td>\n",
       "      <td>300186497.0</td>\n",
       "      <td>I105' G107'</td>\n",
       "    </tr>\n",
       "    <tr>\n",
       "      <th>39069</th>\n",
       "      <td>Round of 16</td>\n",
       "      <td>300186497.0</td>\n",
       "      <td>I72'</td>\n",
       "    </tr>\n",
       "  </tbody>\n",
       "</table>\n",
       "<p>9505 rows × 3 columns</p>\n",
       "</div>\n",
       "      <button class=\"colab-df-convert\" onclick=\"convertToInteractive('df-8ce9591b-c4ce-47dd-bba2-c1fa64a67b7c')\"\n",
       "              title=\"Convert this dataframe to an interactive table.\"\n",
       "              style=\"display:none;\">\n",
       "        \n",
       "  <svg xmlns=\"http://www.w3.org/2000/svg\" height=\"24px\"viewBox=\"0 0 24 24\"\n",
       "       width=\"24px\">\n",
       "    <path d=\"M0 0h24v24H0V0z\" fill=\"none\"/>\n",
       "    <path d=\"M18.56 5.44l.94 2.06.94-2.06 2.06-.94-2.06-.94-.94-2.06-.94 2.06-2.06.94zm-11 1L8.5 8.5l.94-2.06 2.06-.94-2.06-.94L8.5 2.5l-.94 2.06-2.06.94zm10 10l.94 2.06.94-2.06 2.06-.94-2.06-.94-.94-2.06-.94 2.06-2.06.94z\"/><path d=\"M17.41 7.96l-1.37-1.37c-.4-.4-.92-.59-1.43-.59-.52 0-1.04.2-1.43.59L10.3 9.45l-7.72 7.72c-.78.78-.78 2.05 0 2.83L4 21.41c.39.39.9.59 1.41.59.51 0 1.02-.2 1.41-.59l7.78-7.78 2.81-2.81c.8-.78.8-2.07 0-2.86zM5.41 20L4 18.59l7.72-7.72 1.47 1.35L5.41 20z\"/>\n",
       "  </svg>\n",
       "      </button>\n",
       "      \n",
       "  <style>\n",
       "    .colab-df-container {\n",
       "      display:flex;\n",
       "      flex-wrap:wrap;\n",
       "      gap: 12px;\n",
       "    }\n",
       "\n",
       "    .colab-df-convert {\n",
       "      background-color: #E8F0FE;\n",
       "      border: none;\n",
       "      border-radius: 50%;\n",
       "      cursor: pointer;\n",
       "      display: none;\n",
       "      fill: #1967D2;\n",
       "      height: 32px;\n",
       "      padding: 0 0 0 0;\n",
       "      width: 32px;\n",
       "    }\n",
       "\n",
       "    .colab-df-convert:hover {\n",
       "      background-color: #E2EBFA;\n",
       "      box-shadow: 0px 1px 2px rgba(60, 64, 67, 0.3), 0px 1px 3px 1px rgba(60, 64, 67, 0.15);\n",
       "      fill: #174EA6;\n",
       "    }\n",
       "\n",
       "    [theme=dark] .colab-df-convert {\n",
       "      background-color: #3B4455;\n",
       "      fill: #D2E3FC;\n",
       "    }\n",
       "\n",
       "    [theme=dark] .colab-df-convert:hover {\n",
       "      background-color: #434B5C;\n",
       "      box-shadow: 0px 1px 3px 1px rgba(0, 0, 0, 0.15);\n",
       "      filter: drop-shadow(0px 1px 2px rgba(0, 0, 0, 0.3));\n",
       "      fill: #FFFFFF;\n",
       "    }\n",
       "  </style>\n",
       "\n",
       "      <script>\n",
       "        const buttonEl =\n",
       "          document.querySelector('#df-8ce9591b-c4ce-47dd-bba2-c1fa64a67b7c button.colab-df-convert');\n",
       "        buttonEl.style.display =\n",
       "          google.colab.kernel.accessAllowed ? 'block' : 'none';\n",
       "\n",
       "        async function convertToInteractive(key) {\n",
       "          const element = document.querySelector('#df-8ce9591b-c4ce-47dd-bba2-c1fa64a67b7c');\n",
       "          const dataTable =\n",
       "            await google.colab.kernel.invokeFunction('convertToInteractive',\n",
       "                                                     [key], {});\n",
       "          if (!dataTable) return;\n",
       "\n",
       "          const docLinkHtml = 'Like what you see? Visit the ' +\n",
       "            '<a target=\"_blank\" href=https://colab.research.google.com/notebooks/data_table.ipynb>data table notebook</a>'\n",
       "            + ' to learn more about interactive tables.';\n",
       "          element.innerHTML = '';\n",
       "          dataTable['output_type'] = 'display_data';\n",
       "          await google.colab.output.renderOutput(dataTable, element);\n",
       "          const docLink = document.createElement('div');\n",
       "          docLink.innerHTML = docLinkHtml;\n",
       "          element.appendChild(docLink);\n",
       "        }\n",
       "      </script>\n",
       "    </div>\n",
       "  </div>\n",
       "  "
      ]
     },
     "metadata": {},
     "execution_count": 513
    }
   ]
  },
  {
   "cell_type": "markdown",
   "source": [
    "Como se puede apreciar en la columna de Event, estos son un sólo string, y junto al minuto tienen marcado una letra, por lo que habría que separar los valores individuales de cada evento y eliminar la letra que acompaña al tiempo."
   ],
   "metadata": {
    "id": "1_I-Bes9KoeL"
   }
  },
  {
   "cell_type": "code",
   "source": [
    "def checkEvent(data):\n",
    "  \"\"\"Esta función busca los eventos que representan goles\"\"\"\n",
    "  if not('MP' in data) and ('G' in data or 'P' in data or 'W' in data):\n",
    "    return True\n",
    "  return False"
   ],
   "metadata": {
    "id": "3KbQmY6T7qh0"
   },
   "execution_count": null,
   "outputs": []
  },
  {
   "cell_type": "code",
   "source": [
    "def minuteGoal(row):\n",
    "  \"\"\"Esta función sirve para separar los eventos en datos individuales de un array y dejar sólo el número\"\"\"\n",
    "  if checkEvent(row['Event']):\n",
    "    event_list = row['Event'].replace('\\'','').split(' ')\n",
    "    goals_list = [x.replace(' ','')[1:] for x in event_list if checkEvent(x)]\n",
    "    return goals_list"
   ],
   "metadata": {
    "id": "aq7BvqiC14Wz"
   },
   "execution_count": null,
   "outputs": []
  },
  {
   "cell_type": "code",
   "source": [
    "def goals90(n):\n",
    "  \"\"\"Esta función elimina todos los goles en tiempo suplementario\"\"\"\n",
    "  return [int(x) for x in n if int(x) <= 90]"
   ],
   "metadata": {
    "id": "ao3oKFGXBE8w"
   },
   "execution_count": null,
   "outputs": []
  },
  {
   "cell_type": "code",
   "source": [
    "matches_goals['Goals'] = matches_goals.apply(minuteGoal, axis=1)\n",
    "matches_goals.dropna(inplace=True)"
   ],
   "metadata": {
    "id": "NiIWP8zb03i4"
   },
   "execution_count": null,
   "outputs": []
  },
  {
   "cell_type": "code",
   "source": [
    "matches_goals['Goals'] = matches_goals['Goals'].apply(goals90)"
   ],
   "metadata": {
    "id": "BqnWjcMPFwWI"
   },
   "execution_count": null,
   "outputs": []
  },
  {
   "cell_type": "markdown",
   "source": [
    "Una vez que tengo separado todo, debo juntar todos los minutos en un array para preparar el histograma. Como la suma de arrays es una concatenación de arrays, aprovecho eso para agrupar los partidos y sumarlos entre sí."
   ],
   "metadata": {
    "id": "AOZA_bldLAuq"
   }
  },
  {
   "cell_type": "code",
   "source": [
    "goals = matches_goals.loc[:,['MatchID', 'Goals']].groupby('MatchID').sum().sum()"
   ],
   "metadata": {
    "id": "6DXgZ8o64li7"
   },
   "execution_count": null,
   "outputs": []
  },
  {
   "cell_type": "code",
   "source": [
    "x_range = np.linspace(0,90, 91)\n",
    "sns.histplot(x=goals[0], binwidth=4, binrange=(0,90))"
   ],
   "metadata": {
    "colab": {
     "base_uri": "https://localhost:8080/",
     "height": 611
    },
    "id": "TBSBz9QVGiI8",
    "outputId": "ad1c1818-21b1-4255-b193-b817bca4db26"
   },
   "execution_count": null,
   "outputs": [
    {
     "output_type": "execute_result",
     "data": {
      "text/plain": [
       "<matplotlib.axes._subplots.AxesSubplot at 0x7f3077b28710>"
      ]
     },
     "metadata": {},
     "execution_count": 520
    },
    {
     "output_type": "display_data",
     "data": {
      "text/plain": [
       "<Figure size 1008x720 with 1 Axes>"
      ],
      "image/png": "[encoded data removed]"
     },
     "metadata": {}
    }
   ]
  },
  {
   "cell_type": "markdown",
   "source": [
    "## Goles por instancias"
   ],
   "metadata": {
    "id": "Yszks6KsMqS_"
   }
  },
  {
   "cell_type": "markdown",
   "source": [
    "### Fase de grupos"
   ],
   "metadata": {
    "id": "lay6kD3PNDMj"
   }
  },
  {
   "cell_type": "code",
   "source": [
    "matches_goals_group = matches_goals[matches_goals['Stage'].str.contains('Group')]"
   ],
   "metadata": {
    "id": "CgCxthG_MuKh"
   },
   "execution_count": null,
   "outputs": []
  },
  {
   "cell_type": "code",
   "source": [
    "goals_group = matches_goals_group.loc[:,['MatchID', 'Goals']].groupby('MatchID').sum().sum()"
   ],
   "metadata": {
    "id": "z0CZfTyfNK-o"
   },
   "execution_count": null,
   "outputs": []
  },
  {
   "cell_type": "code",
   "source": [
    "x_range = np.linspace(0,90, 91)\n",
    "sns.histplot(x=goals_group[0], binwidth=4, binrange=(0,90))"
   ],
   "metadata": {
    "colab": {
     "base_uri": "https://localhost:8080/",
     "height": 611
    },
    "id": "gjod9Vx3NbAC",
    "outputId": "0a4cd6bd-d7ce-4e85-f4ed-1ce332f003fd"
   },
   "execution_count": null,
   "outputs": [
    {
     "output_type": "execute_result",
     "data": {
      "text/plain": [
       "<matplotlib.axes._subplots.AxesSubplot at 0x7f30777bbd50>"
      ]
     },
     "metadata": {},
     "execution_count": 523
    },
    {
     "output_type": "display_data",
     "data": {
      "text/plain": [
       "<Figure size 1008x720 with 1 Axes>"
      ],
      "image/png": "[encoded data removed]"
     },
     "metadata": {}
    }
   ]
  },
  {
   "cell_type": "markdown",
   "source": [
    "## Fase eliminatoria"
   ],
   "metadata": {
    "id": "CCmd-6y1Nf0Q"
   }
  },
  {
   "cell_type": "code",
   "source": [
    "matches_goals_knockout = matches_goals[~(matches_goals['Stage'].str.contains('Group'))]"
   ],
   "metadata": {
    "id": "u73UsoKkNieB"
   },
   "execution_count": null,
   "outputs": []
  },
  {
   "cell_type": "code",
   "source": [
    "goals_knockout = matches_goals_knockout.loc[:,['MatchID', 'Goals']].groupby('MatchID').sum().sum()"
   ],
   "metadata": {
    "id": "-eXaouIdN4-0"
   },
   "execution_count": null,
   "outputs": []
  },
  {
   "cell_type": "code",
   "source": [
    "x_range = np.linspace(0,90, 91)\n",
    "sns.histplot(x=goals_knockout[0], binwidth=4, binrange=(0,90))"
   ],
   "metadata": {
    "colab": {
     "base_uri": "https://localhost:8080/",
     "height": 611
    },
    "id": "YQ9chGdLOEt8",
    "outputId": "0001739e-e55f-412f-a3b5-06a1631a2994"
   },
   "execution_count": null,
   "outputs": [
    {
     "output_type": "execute_result",
     "data": {
      "text/plain": [
       "<matplotlib.axes._subplots.AxesSubplot at 0x7f3078023350>"
      ]
     },
     "metadata": {},
     "execution_count": 526
    },
    {
     "output_type": "display_data",
     "data": {
      "text/plain": [
       "<Figure size 1008x720 with 1 Axes>"
      ],
      "image/png": "[encoded data removed]"
     },
     "metadata": {}
    }
   ]
  },
  {
   "cell_type": "markdown",
   "source": [
    "# Cuarta consigna"
   ],
   "metadata": {
    "id": "kP7JCCQoPrsk"
   }
  },
  {
   "cell_type": "markdown",
   "source": [
    "##Tiempo al primer gol"
   ],
   "metadata": {
    "id": "xhaUF7aESAUo"
   }
  },
  {
   "cell_type": "code",
   "source": [
    "def firstGoal(val):\n",
    "  val.sort()\n",
    "  if len(val)>0:\n",
    "    return val[0]"
   ],
   "metadata": {
    "id": "ZC2lq9n4P-QE"
   },
   "execution_count": null,
   "outputs": []
  },
  {
   "cell_type": "code",
   "source": [
    "matches_goals['First Goal'] = matches_goals['Goals'].apply(firstGoal)\n",
    "matches_goals"
   ],
   "metadata": {
    "colab": {
     "base_uri": "https://localhost:8080/",
     "height": 424
    },
    "id": "RUIF2yOOQlaq",
    "outputId": "ce482fdd-5896-4309-8efe-c6d3d55e6a10"
   },
   "execution_count": null,
   "outputs": [
    {
     "output_type": "execute_result",
     "data": {
      "text/plain": [
       "             Stage      MatchID        Event     Goals  First Goal\n",
       "2          Group 1       1096.0         G40'      [40]        40.0\n",
       "3          Group 1       1096.0         G70'      [70]        70.0\n",
       "6          Group 1       1096.0    G43' G87'  [43, 87]        43.0\n",
       "14         Group 1       1096.0         G19'      [19]        19.0\n",
       "35         Group 4       1090.0         G45'      [45]        45.0\n",
       "...            ...          ...          ...       ...         ...\n",
       "39008  Round of 16  300186497.0   I91' G105'        []         NaN\n",
       "39019  Round of 16  300186497.0  I105' G107'        []         NaN\n",
       "39036  Round of 16  300186497.0         G93'        []         NaN\n",
       "39054  Round of 16  300186497.0   I91' G105'        []         NaN\n",
       "39065  Round of 16  300186497.0  I105' G107'        []         NaN\n",
       "\n",
       "[2112 rows x 5 columns]"
      ],
      "text/html": [
       "\n",
       "  <div id=\"df-fb35e768-7abe-4e21-b1e0-d2ed6028ea77\">\n",
       "    <div class=\"colab-df-container\">\n",
       "      <div>\n",
       "<style scoped>\n",
       "    .dataframe tbody tr th:only-of-type {\n",
       "        vertical-align: middle;\n",
       "    }\n",
       "\n",
       "    .dataframe tbody tr th {\n",
       "        vertical-align: top;\n",
       "    }\n",
       "\n",
       "    .dataframe thead th {\n",
       "        text-align: right;\n",
       "    }\n",
       "</style>\n",
       "<table border=\"1\" class=\"dataframe\">\n",
       "  <thead>\n",
       "    <tr style=\"text-align: right;\">\n",
       "      <th></th>\n",
       "      <th>Stage</th>\n",
       "      <th>MatchID</th>\n",
       "      <th>Event</th>\n",
       "      <th>Goals</th>\n",
       "      <th>First Goal</th>\n",
       "    </tr>\n",
       "  </thead>\n",
       "  <tbody>\n",
       "    <tr>\n",
       "      <th>2</th>\n",
       "      <td>Group 1</td>\n",
       "      <td>1096.0</td>\n",
       "      <td>G40'</td>\n",
       "      <td>[40]</td>\n",
       "      <td>40.0</td>\n",
       "    </tr>\n",
       "    <tr>\n",
       "      <th>3</th>\n",
       "      <td>Group 1</td>\n",
       "      <td>1096.0</td>\n",
       "      <td>G70'</td>\n",
       "      <td>[70]</td>\n",
       "      <td>70.0</td>\n",
       "    </tr>\n",
       "    <tr>\n",
       "      <th>6</th>\n",
       "      <td>Group 1</td>\n",
       "      <td>1096.0</td>\n",
       "      <td>G43' G87'</td>\n",
       "      <td>[43, 87]</td>\n",
       "      <td>43.0</td>\n",
       "    </tr>\n",
       "    <tr>\n",
       "      <th>14</th>\n",
       "      <td>Group 1</td>\n",
       "      <td>1096.0</td>\n",
       "      <td>G19'</td>\n",
       "      <td>[19]</td>\n",
       "      <td>19.0</td>\n",
       "    </tr>\n",
       "    <tr>\n",
       "      <th>35</th>\n",
       "      <td>Group 4</td>\n",
       "      <td>1090.0</td>\n",
       "      <td>G45'</td>\n",
       "      <td>[45]</td>\n",
       "      <td>45.0</td>\n",
       "    </tr>\n",
       "    <tr>\n",
       "      <th>...</th>\n",
       "      <td>...</td>\n",
       "      <td>...</td>\n",
       "      <td>...</td>\n",
       "      <td>...</td>\n",
       "      <td>...</td>\n",
       "    </tr>\n",
       "    <tr>\n",
       "      <th>39008</th>\n",
       "      <td>Round of 16</td>\n",
       "      <td>300186497.0</td>\n",
       "      <td>I91' G105'</td>\n",
       "      <td>[]</td>\n",
       "      <td>NaN</td>\n",
       "    </tr>\n",
       "    <tr>\n",
       "      <th>39019</th>\n",
       "      <td>Round of 16</td>\n",
       "      <td>300186497.0</td>\n",
       "      <td>I105' G107'</td>\n",
       "      <td>[]</td>\n",
       "      <td>NaN</td>\n",
       "    </tr>\n",
       "    <tr>\n",
       "      <th>39036</th>\n",
       "      <td>Round of 16</td>\n",
       "      <td>300186497.0</td>\n",
       "      <td>G93'</td>\n",
       "      <td>[]</td>\n",
       "      <td>NaN</td>\n",
       "    </tr>\n",
       "    <tr>\n",
       "      <th>39054</th>\n",
       "      <td>Round of 16</td>\n",
       "      <td>300186497.0</td>\n",
       "      <td>I91' G105'</td>\n",
       "      <td>[]</td>\n",
       "      <td>NaN</td>\n",
       "    </tr>\n",
       "    <tr>\n",
       "      <th>39065</th>\n",
       "      <td>Round of 16</td>\n",
       "      <td>300186497.0</td>\n",
       "      <td>I105' G107'</td>\n",
       "      <td>[]</td>\n",
       "      <td>NaN</td>\n",
       "    </tr>\n",
       "  </tbody>\n",
       "</table>\n",
       "<p>2112 rows × 5 columns</p>\n",
       "</div>\n",
       "      <button class=\"colab-df-convert\" onclick=\"convertToInteractive('df-fb35e768-7abe-4e21-b1e0-d2ed6028ea77')\"\n",
       "              title=\"Convert this dataframe to an interactive table.\"\n",
       "              style=\"display:none;\">\n",
       "        \n",
       "  <svg xmlns=\"http://www.w3.org/2000/svg\" height=\"24px\"viewBox=\"0 0 24 24\"\n",
       "       width=\"24px\">\n",
       "    <path d=\"M0 0h24v24H0V0z\" fill=\"none\"/>\n",
       "    <path d=\"M18.56 5.44l.94 2.06.94-2.06 2.06-.94-2.06-.94-.94-2.06-.94 2.06-2.06.94zm-11 1L8.5 8.5l.94-2.06 2.06-.94-2.06-.94L8.5 2.5l-.94 2.06-2.06.94zm10 10l.94 2.06.94-2.06 2.06-.94-2.06-.94-.94-2.06-.94 2.06-2.06.94z\"/><path d=\"M17.41 7.96l-1.37-1.37c-.4-.4-.92-.59-1.43-.59-.52 0-1.04.2-1.43.59L10.3 9.45l-7.72 7.72c-.78.78-.78 2.05 0 2.83L4 21.41c.39.39.9.59 1.41.59.51 0 1.02-.2 1.41-.59l7.78-7.78 2.81-2.81c.8-.78.8-2.07 0-2.86zM5.41 20L4 18.59l7.72-7.72 1.47 1.35L5.41 20z\"/>\n",
       "  </svg>\n",
       "      </button>\n",
       "      \n",
       "  <style>\n",
       "    .colab-df-container {\n",
       "      display:flex;\n",
       "      flex-wrap:wrap;\n",
       "      gap: 12px;\n",
       "    }\n",
       "\n",
       "    .colab-df-convert {\n",
       "      background-color: #E8F0FE;\n",
       "      border: none;\n",
       "      border-radius: 50%;\n",
       "      cursor: pointer;\n",
       "      display: none;\n",
       "      fill: #1967D2;\n",
       "      height: 32px;\n",
       "      padding: 0 0 0 0;\n",
       "      width: 32px;\n",
       "    }\n",
       "\n",
       "    .colab-df-convert:hover {\n",
       "      background-color: #E2EBFA;\n",
       "      box-shadow: 0px 1px 2px rgba(60, 64, 67, 0.3), 0px 1px 3px 1px rgba(60, 64, 67, 0.15);\n",
       "      fill: #174EA6;\n",
       "    }\n",
       "\n",
       "    [theme=dark] .colab-df-convert {\n",
       "      background-color: #3B4455;\n",
       "      fill: #D2E3FC;\n",
       "    }\n",
       "\n",
       "    [theme=dark] .colab-df-convert:hover {\n",
       "      background-color: #434B5C;\n",
       "      box-shadow: 0px 1px 3px 1px rgba(0, 0, 0, 0.15);\n",
       "      filter: drop-shadow(0px 1px 2px rgba(0, 0, 0, 0.3));\n",
       "      fill: #FFFFFF;\n",
       "    }\n",
       "  </style>\n",
       "\n",
       "      <script>\n",
       "        const buttonEl =\n",
       "          document.querySelector('#df-fb35e768-7abe-4e21-b1e0-d2ed6028ea77 button.colab-df-convert');\n",
       "        buttonEl.style.display =\n",
       "          google.colab.kernel.accessAllowed ? 'block' : 'none';\n",
       "\n",
       "        async function convertToInteractive(key) {\n",
       "          const element = document.querySelector('#df-fb35e768-7abe-4e21-b1e0-d2ed6028ea77');\n",
       "          const dataTable =\n",
       "            await google.colab.kernel.invokeFunction('convertToInteractive',\n",
       "                                                     [key], {});\n",
       "          if (!dataTable) return;\n",
       "\n",
       "          const docLinkHtml = 'Like what you see? Visit the ' +\n",
       "            '<a target=\"_blank\" href=https://colab.research.google.com/notebooks/data_table.ipynb>data table notebook</a>'\n",
       "            + ' to learn more about interactive tables.';\n",
       "          element.innerHTML = '';\n",
       "          dataTable['output_type'] = 'display_data';\n",
       "          await google.colab.output.renderOutput(dataTable, element);\n",
       "          const docLink = document.createElement('div');\n",
       "          docLink.innerHTML = docLinkHtml;\n",
       "          element.appendChild(docLink);\n",
       "        }\n",
       "      </script>\n",
       "    </div>\n",
       "  </div>\n",
       "  "
      ]
     },
     "metadata": {},
     "execution_count": 528
    }
   ]
  },
  {
   "cell_type": "code",
   "source": [
    "sns.histplot(data=matches_goals, x='First Goal', binwidth=4, binrange=(0,90))"
   ],
   "metadata": {
    "colab": {
     "base_uri": "https://localhost:8080/",
     "height": 628
    },
    "id": "RGlcGAunRulw",
    "outputId": "097c80f6-389e-404e-f678-68ce302b9c16"
   },
   "execution_count": null,
   "outputs": [
    {
     "output_type": "execute_result",
     "data": {
      "text/plain": [
       "<matplotlib.axes._subplots.AxesSubplot at 0x7f3077c67610>"
      ]
     },
     "metadata": {},
     "execution_count": 542
    },
    {
     "output_type": "display_data",
     "data": {
      "text/plain": [
       "<Figure size 1008x720 with 1 Axes>"
      ],
      "image/png": "[encoded data removed]"
     },
     "metadata": {}
    }
   ]
  },
  {
   "cell_type": "markdown",
   "source": [
    "##Tiempo entre goles"
   ],
   "metadata": {
    "id": "8UQreXQ2SDty"
   }
  },
  {
   "cell_type": "code",
   "source": [
    "def deltaGoals(val):\n",
    "  if len(val) > 1:\n",
    "    i = 1\n",
    "    deltas = []\n",
    "    while i < len(val):\n",
    "      deltas.append(val[i]-val[i-1])\n",
    "      i += 1\n",
    "    return deltas"
   ],
   "metadata": {
    "id": "BPWs1eisSMEW"
   },
   "execution_count": null,
   "outputs": []
  },
  {
   "cell_type": "code",
   "source": [
    "matches_goals['Deltas'] = matches_goals['Goals'].apply(deltaGoals)\n",
    "matches_delta = matches_goals.dropna()"
   ],
   "metadata": {
    "id": "jXbAmwxTTgqU"
   },
   "execution_count": null,
   "outputs": []
  },
  {
   "cell_type": "code",
   "source": [
    "deltas = matches_delta['Deltas'].sum()"
   ],
   "metadata": {
    "id": "5C7FmOoIUjAf"
   },
   "execution_count": null,
   "outputs": []
  },
  {
   "cell_type": "code",
   "source": [
    "sns.histplot(x=deltas, binwidth=4, binrange=(0,90))"
   ],
   "metadata": {
    "colab": {
     "base_uri": "https://localhost:8080/",
     "height": 611
    },
    "id": "OKk5C8nQVCQE",
    "outputId": "8b54eb36-3778-456d-87b5-28c04d829ce2"
   },
   "execution_count": null,
   "outputs": [
    {
     "output_type": "execute_result",
     "data": {
      "text/plain": [
       "<matplotlib.axes._subplots.AxesSubplot at 0x7f3078147dd0>"
      ]
     },
     "metadata": {},
     "execution_count": 543
    },
    {
     "output_type": "display_data",
     "data": {
      "text/plain": [
       "<Figure size 1008x720 with 1 Axes>"
      ],
      "image/png": "[encoded data removed]"
     },
     "metadata": {}
    }
   ]
  }
 ]
}